{
 "cells": [
  {
   "cell_type": "markdown",
   "metadata": {},
   "source": [
    "a).\n",
    "Integración con método de Euler\n",
    "\n",
    "El método de euler es el integrador mas sencillo, desarrollamos\n",
    "\n",
    "$f(x+h)=f(x)+f\\prime (x)h$\n",
    "\n",
    "$f\\prime (x)=\\frac{f(x)-f(x+h)}{h}$\n",
    "\n",
    "ahora, como ecuación diferencial $f\\prime (x)=g(x,f(x))$\n",
    "\n",
    "No sabemos cuanto es $f(x)$ pero si sabemos que $f(x_0)=f_0$ por las condiciones iniciales, entonces\n",
    "\n",
    "\n",
    "$f_1=f_0+f_0\\prime h = f_0 +g(x_0,f_0)h$\n",
    "\n",
    "si seguimos el algoritmo, el método queda\n",
    "\n",
    "$f(x_i+1)=f(x_i)+g(x_i,f(x_i))h$"
   ]
  },
  {
   "cell_type": "code",
   "execution_count": 14,
   "metadata": {
    "collapsed": true
   },
   "outputs": [],
   "source": [
    "from numpy import *\n",
    "from pylab import *\n",
    "%matplotlib inline"
   ]
  },
  {
   "cell_type": "code",
   "execution_count": 21,
   "metadata": {
    "collapsed": true
   },
   "outputs": [],
   "source": [
    "def euler(funcion,p_ini,t_final,h=0.01):#definimos las variables: la ecuación que usaremos, el punto inicial, el final y los pasos.\n",
    "    tiempos = arange(p_ini[0],t_final+h,h)#será un arreglo que va desde el punto inicial hasta el final +1, en pasos de h\n",
    "    y = [0]*len(tiempos) #zeros(len(tiempos))con la longitud de tiempos\n",
    "    y[0] = p_ini[1]#aqui le decimos que el primer elemento de y será el punto inicial\n",
    "    for i in range(len(tiempos)-1):#aqui le quitamos uno, para que el primer elemento y[i-1] quede como y[0] el primer punto\n",
    "        y[i+1] = y[i] + funcion(y[i],tiempos[i])*h#aquí finalmente escribimos que algoritmo debe seguir\n",
    "    solucion = [tiempos,y]\n",
    "    return solucion"
   ]
  },
  {
   "cell_type": "markdown",
   "metadata": {},
   "source": [
    "b). Integración sobre serie de Taylor a segundo orden\n",
    "\n",
    "En este metodo desarrollamos la serie de Taylor a segundo orden \n",
    "\n",
    "$f(x,y)=f(x_n,y_n)+f\\prime (x_n,y_n)h + \\frac{f\\prime\\prime (x_n,y_n)h^2}{2}+O(h^3)$\n",
    "\n",
    "donde \n",
    "\n",
    "$y \\prime (x) = f(x,y)$\n",
    "\n",
    "$y(x_0)  =y_0$ condiciones iniciales\n",
    "\n",
    "finalemente quedará de la forma \n",
    "\n",
    "$$\n",
    "y_{n+1} = y_n + hf(x_n,y_n) + \\frac{h^2}{2} \\left(\n",
    "\\frac{\\partial f}{\\partial x}+ \\frac{\\partial f}{\\partial y} f \\right)\n",
    "$$\n",
    "\n",
    "aunque si queremos integrar en varias variables quedará de la forma\n",
    "\n",
    "$$\n",
    "\\vec y_{n+1} = \\vec y_n +h\\vec f+ \\frac{1}{2}h² \\left(\n",
    "\\frac{\\partial \\vec f}{\\partial x} + \\mathbb{J}\\vec f\n",
    "\\right)\n",
    "$$\n",
    "donde $f$ es $f(x_n, \\vec y_n)$, $\\mathbb{J}$ es el Jacobiano evaluado en este punto. $(x_n, \\vec y_n)$ "
   ]
  },
  {
   "cell_type": "code",
   "execution_count": 36,
   "metadata": {
    "collapsed": true
   },
   "outputs": [],
   "source": [
    "\n",
    "def segundo_orden1(ec_diff,p_ini,t_final,ec_jac,h=0.1):\n",
    "    tiempo=arange(0,t_final+h,h) #\n",
    "    y = zeros(len(tiempo))\n",
    "    y[0] = p_ini\n",
    "    for i in range(len(tiempo)-1):\n",
    "        y[i+1] = y[i] + h*ec_diff(y[i],tiempo[i])\n",
    "        y[i+1] += 0.5*h*h*ec_jac(y[i],tiempo[i])[0]\n",
    "        y[i+1] += 0.5*h*h*ec_jac(y[i],tiempo[i])[1]*ec_diff(y[i],tiempo[i])\n",
    "    return tiempo,y\n",
    "\n"
   ]
  },
  {
   "cell_type": "markdown",
   "metadata": {},
   "source": [
    "b). Métodod de Runge-Kutta de segundo orden\n",
    "\n",
    "El método de Runge-Kutta trata de integrar rectángulo por rectángulo, hacemos particiones de tamaño h y aproximamos $f(x_0 +h)$ en series de Taylor\n",
    "\n",
    "$Y_{n+1}= Y_n + f(X_{n+\\frac{1}{2}}h,Y_{n+\\frac{1}{2}}k)$"
   ]
  },
  {
   "cell_type": "code",
   "execution_count": 50,
   "metadata": {
    "collapsed": true
   },
   "outputs": [],
   "source": [
    "def rk2(ec,p_ini,x,h=0.1):#definios las variables, ec como la ecuación, p como el punto inicial, y h como los pasos\n",
    "    tiempos = arange(x[0],x[1]+h,h)#el tiempo va de x[0] a x[1]+h, en pasos de h\n",
    "    sol = zeros((len(tiempos),len(p_ini)))\n",
    "    sol[0,:] = p_ini#el primer elemento en la primer entrada será el punto inicial\n",
    "    for i in xrange(len(tiempos)-1):\n",
    "        k = h*ec(sol[i,:],tiempos[i])\n",
    "        f = ec(sol[i,:]+0.5*k,tiempos[i]+0.5*h)\n",
    "        sol[i+1,:]=sol[i,:]+h*f\n",
    "    return tiempos,sol\n",
    "\n"
   ]
  },
  {
   "cell_type": "markdown",
   "metadata": {},
   "source": [
    "c). Método de Ruge-Kutta de cuarto orden\n",
    "no hay método a tercer orden, básicamente sigue el mismo algoritmo pero con desarrollo a cuarto orden"
   ]
  },
  {
   "cell_type": "code",
   "execution_count": 24,
   "metadata": {
    "collapsed": true
   },
   "outputs": [],
   "source": [
    "def rk4(ec,p_ini,x,h=0.1):\n",
    "    tiempos = arange(x[0],x[1]+h,h)\n",
    "    sol = zeros((len(tiempos),len(p_ini)))\n",
    "    sol[0,:] = p_ini\n",
    "    for i in xrange(len(tiempos)-1):\n",
    "        k1 = ec(sol[i,:],tiempos[i])\n",
    "        k2 = ec(sol[i,:]+0.5*h*k1,tiempos[i]+0.5*h)\n",
    "        k3 = ec(sol[i,:]+0.5*h*k2,tiempos[i]+0.5*h)\n",
    "        k4 = ec(sol[i,:]+h*k3,tiempos[i]+h)\n",
    "        sol[i+1,:]=sol[i,:]+(h/6.)*(k1+2*k2+2*k3+k4)\n",
    "    return tiempos,sol"
   ]
  },
  {
   "cell_type": "code",
   "execution_count": 31,
   "metadata": {
    "collapsed": false
   },
   "outputs": [],
   "source": [
    "def fun(y,t):\n",
    "    return -0.5*t-sin(y)\n"
   ]
  },
  {
   "cell_type": "code",
   "execution_count": 59,
   "metadata": {
    "collapsed": false
   },
   "outputs": [
    {
     "data": {
      "image/png": "[encoded data removed]",
      "text/plain": [
       "<matplotlib.figure.Figure at 0x7f3d7c9473d0>"
      ]
     },
     "metadata": {},
     "output_type": "display_data"
    }
   ],
   "source": [
    "sol = euler(fun,[0,1],100,0.1)\n",
    "plot(sol[0],sol[1])\n",
    "show()"
   ]
  },
  {
   "cell_type": "code",
   "execution_count": 39,
   "metadata": {
    "collapsed": true
   },
   "outputs": [],
   "source": [
    "def fun1(y,t):\n",
    "    return -0.5*t-sin(y)\n",
    "\n",
    "def d_fun1(y,t):\n",
    "    return -cos(y),-0.5"
   ]
  },
  {
   "cell_type": "code",
   "execution_count": 55,
   "metadata": {
    "collapsed": false
   },
   "outputs": [
    {
     "data": {
      "image/png": "[encoded data removed]",
      "text/plain": [
       "<matplotlib.figure.Figure at 0x7f3d7d05a250>"
      ]
     },
     "metadata": {},
     "output_type": "display_data"
    }
   ],
   "source": [
    "sol = segundo_orden1(fun1,1,100,d_fun1)\n",
    "plot(sol[0],sol[1],'o',label=\"SG\")\n",
    "legend()\n",
    "show()\n"
   ]
  },
  {
   "cell_type": "code",
   "execution_count": 44,
   "metadata": {
    "collapsed": false
   },
   "outputs": [],
   "source": [
    "\n"
   ]
  },
  {
   "cell_type": "code",
   "execution_count": 53,
   "metadata": {
    "collapsed": false
   },
   "outputs": [
    {
     "data": {
      "image/png": "[encoded data removed]",
      "text/plain": [
       "<matplotlib.figure.Figure at 0x7f3d7d114f50>"
      ]
     },
     "metadata": {},
     "output_type": "display_data"
    }
   ],
   "source": [
    "sol = rk2(fun1,[1,0],[0,100],0.01)\n",
    "plot(sol[0],sol[1])\n",
    "show()"
   ]
  },
  {
   "cell_type": "code",
   "execution_count": 54,
   "metadata": {
    "collapsed": false
   },
   "outputs": [
    {
     "data": {
      "image/png": "[encoded data removed]",
      "text/plain": [
       "<matplotlib.figure.Figure at 0x7f3d86907710>"
      ]
     },
     "metadata": {},
     "output_type": "display_data"
    }
   ],
   "source": [
    "sol = rk4(fun1,[1,0],[0,100],0.01)\n",
    "plot(sol[0],sol[1])\n",
    "show()"
   ]
  },
  {
   "cell_type": "code",
   "execution_count": null,
   "metadata": {
    "collapsed": true
   },
   "outputs": [],
   "source": []
  }
 ],
 "metadata": {
  "kernelspec": {
   "display_name": "Python [Root]",
   "language": "python",
   "name": "Python [Root]"
  },
  "language_info": {
   "codemirror_mode": {
    "name": "ipython",
    "version": 2
   },
   "file_extension": ".py",
   "mimetype": "text/x-python",
   "name": "python",
   "nbconvert_exporter": "python",
   "pygments_lexer": "ipython2",
   "version": "2.7.12"
  }
 },
 "nbformat": 4,
 "nbformat_minor": 0
}
