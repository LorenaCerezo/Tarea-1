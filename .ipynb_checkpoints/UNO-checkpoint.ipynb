{
 "cells": [
  {
   "cell_type": "markdown",
   "metadata": {},
   "source": [
    "a).\n",
    "Integración con método de Euler\n",
    "\n",
    "El método de euler es el integrador mas sencillo, desarrollamos\n",
    "\n",
    "$f(x+h)=f(x)+f\\prime (x)h$\n",
    "\n",
    "$f\\prime (x)=\\frac{f(x)-f(x+h)}{h}$\n",
    "\n",
    "ahora, como ecuación diferencial $f\\prime (x)=g(x,f(x))$\n",
    "\n",
    "No sabemos cuanto es $f(x)$ pero si sabemos que $f(x_0)=f_0$ por las condiciones iniciales, entonces\n",
    "\n",
    "\n",
    "$f_1=f_0+f_0\\prime h = f_0 +g(x_0,f_0)h$\n",
    "\n",
    "si seguimos el algoritmo, el método queda\n",
    "\n",
    "$f(x_i+1)=f(x_i)+g(x_i,f(x_i))h$"
   ]
  },
  {
   "cell_type": "code",
   "execution_count": 1,
   "metadata": {
    "collapsed": true
   },
   "outputs": [],
   "source": [
    "from numpy import *"
   ]
  },
  {
   "cell_type": "code",
   "execution_count": 2,
   "metadata": {
    "collapsed": true
   },
   "outputs": [],
   "source": [
    "def euler(ec_diff,p_ini,t_final,h=0.01): #definimos las variables ec_diff sera la ecuacion que usaremos, p_inicial es el punto inicial, y t_final es el tiempo final. h es el tamaño del paso.\n",
    "    tiempo=arange(0,t_final+h,h)#es un arreglo que va de 0 a (tfinal + h), dividido en pasos de h\n",
    "    y = zeros(len(tiempo))#será un arreglo de ceros con la longitud de lo que arrojará \"tiempo\"\n",
    "    y[0] = p_ini #aquí le decimos que el primer elemento de y será el punto inicial\n",
    "    for i in range(len(tiempo)-1): #aqui le quitamos uno, para que el primer elemento y[i-1] quede como y[0] el primer punto\n",
    "        y[i+1]=y[i] + h*ec_diff(y[i],tiempo[i])#y aqui finalmente escribimos el algoritmo que debe seguir\n",
    "# aqui vemos a f como la variable y, a i como x_i, y la ecuacion diferencial es g.\n",
    "\n",
    "    return tiempo,y"
   ]
  },
  {
   "cell_type": "markdown",
   "metadata": {},
   "source": [
    "b). Integración sobre serie de Taylor a segundo orden\n",
    "\n",
    "En este metodo desarrollamos la serie de Taylor a segundo orden \n",
    "\n",
    "$f(x,y)=f(x_n,y_n)+f\\prime (x_n,y_n)h + \\frac{f\\prime\\prime (x_n,y_n)h^2}{2}+O(h^3)$\n",
    "\n",
    "donde \n",
    "\n",
    "$y \\prime (x) = f(x,y)$\n",
    "\n",
    "$y(x_0)  =y_0$ condiciones iniciales\n",
    "\n",
    "finalemente quedará de la forma \n",
    "\n",
    "$$\n",
    "y_{n+1} = y_n + hf(x_n,y_n) + \\frac{h^2}{2} \\left(\n",
    "\\frac{\\partial f}{\\partial x}+ \\frac{\\partial f}{\\partial y} f \\right)\n",
    "$$\n",
    "\n",
    "aunque si queremos integrar en varias variables quedará de la forma\n",
    "\n",
    "$$\n",
    "\\vec y_{n+1} = \\vec y_n +h\\vec f+ \\frac{1}{2}h² \\left(\n",
    "\\frac{\\partial \\vec f}{\\partial x} + \\mathbb{J}\\vec f\n",
    "\\right)\n",
    "$$\n",
    "donde $f$ es $f(x_n, \\vec y_n)$, $\\mathbb{J}$ es el Jacobiano evaluado en este punto. $(x_n, \\vec y_n)$ "
   ]
  },
  {
   "cell_type": "code",
   "execution_count": 3,
   "metadata": {
    "collapsed": true
   },
   "outputs": [],
   "source": [
    "def segundo_orden1(ec_diff,p_ini,t_final,ec_jac,h=0.1):#nuevamente definimos las variables, acá incluimos el jacobiano, entonces recordemos que nosotros se lo tnemos que dar\n",
    "    tiempo=arange(0,t_final+h,h) #el arreglo va de cero al tiempo final +h, dividido en pasos de h\n",
    "    y = zeros(len(tiempo))#y y será de la longitud del tiempo (pues por que son las divisiones que les están dando)\n",
    "    y[0] = p_ini#le decimos que el punto inicial será el primer elemento del arreglo\n",
    "    for i in range(len(tiempo)-1):\n",
    "        y[i+1] = y[i] + h*ec_diff(y[i],tiempo[i])#en esta parte definimos el algoritmo, y es toooodo esto\n",
    "        y[i+1] +=  0.5*h*h*ec_jac(y[i],tiempo[i])[0]\n",
    "        y[i+1] +=  0.5*h*h*ec_jac(y[i],tiempo[i])[1]*ec_diff(y[i],tiempo[i])#hasta aquí\n",
    "    return tiempo,y"
   ]
  },
  {
   "cell_type": "markdown",
   "metadata": {},
   "source": [
    "b). Métodod de Runge-Kutta de segundo orden"
   ]
  }
 ],
 "metadata": {
  "kernelspec": {
   "display_name": "Python [Root]",
   "language": "python",
   "name": "Python [Root]"
  },
  "language_info": {
   "codemirror_mode": {
    "name": "ipython",
    "version": 2
   },
   "file_extension": ".py",
   "mimetype": "text/x-python",
   "name": "python",
   "nbconvert_exporter": "python",
   "pygments_lexer": "ipython2",
   "version": "2.7.12"
  }
 },
 "nbformat": 4,
 "nbformat_minor": 0
}
